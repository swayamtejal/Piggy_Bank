{
 "cells": [
  {
   "cell_type": "code",
   "execution_count": 1,
   "metadata": {},
   "outputs": [
    {
     "name": "stdout",
     "output_type": "stream",
     "text": [
      "------------------------------Start-------------------------------------------\n",
      "\n",
      "Start or End: Start\n",
      "Add, Withdraw or Check: Add\n",
      "\n",
      "Add amount: 1000\n",
      "\n",
      "After adding, your updated balance is: ₹1000.0\n",
      "\n",
      "Start or End: Start\n",
      "Add, Withdraw or Check: withdraw\n",
      "\n",
      "Withdraw amount: 300\n",
      "\n",
      "After withdrawing, balance amount is: ₹700.0\n",
      "\n",
      "Start or End: Start\n",
      "Add, Withdraw or Check: check\n",
      "\n",
      "Your current balance is: ₹700.0\n",
      "Thank you for banking with us\n"
     ]
    }
   ],
   "source": [
    "import sys\n",
    "class Piggy():\n",
    "    def __init__(self,balance=0):\n",
    "        self.balance=balance \n",
    "        \n",
    "    def deposit(self, amount):\n",
    "        self.balance=self.balance+amount\n",
    "        print(\"\\nAfter adding, your updated balance is: ₹\"+str(self.balance)) \n",
    "    \n",
    "    \n",
    "    def withdraw(self,amount):\n",
    "        if (self.balance< 0) or (amount>self.balance):\n",
    "            print(\"Insufficient amount in the account. You will be logged out of your account\")\n",
    "            sys.exit()\n",
    "        self.balance-=amount\n",
    "        print(\"\\nAfter withdrawing, balance amount is: ₹\"+str(self.balance)) \n",
    "    \n",
    "    def check(self):\n",
    "        print(\"\\nYour current balance is: ₹\"+str(self.balance)) \n",
    "\n",
    "print(\"------------------------------Start-------------------------------------------\")\n",
    "p=Piggy()\n",
    "\n",
    "\n",
    "while True:\n",
    "    in1=input(\"\\nStart or End: \").lower() \n",
    "\n",
    "    if in1== \"start\":\n",
    "        in2=input(\"Add, Withdraw or Check: \").lower()\n",
    "        if in2=='add':\n",
    "            amount=float(input(\"\\nAdd amount: \"))\n",
    "            p.deposit(amount)\n",
    "        elif in2=='withdraw':\n",
    "            amount=float(input(\"\\nWithdraw amount: \"))\n",
    "            p.withdraw(amount)\n",
    "        elif in2=='check':\n",
    "            p.check()\n",
    "            print(\"Thank you for banking with us\")\n",
    "            break\n",
    "            \n",
    "    else:\n",
    "        print(\"You chose to end the transaction.Thank you for banking with us!\")\n",
    "        break\n",
    "else:\n",
    "    print(\"Choose valid option\")         \n",
    "         \n",
    "        "
   ]
  },
  {
   "cell_type": "code",
   "execution_count": null,
   "metadata": {},
   "outputs": [],
   "source": []
  }
 ],
 "metadata": {
  "kernelspec": {
   "display_name": "Python 3",
   "language": "python",
   "name": "python3"
  },
  "language_info": {
   "codemirror_mode": {
    "name": "ipython",
    "version": 3
   },
   "file_extension": ".py",
   "mimetype": "text/x-python",
   "name": "python",
   "nbconvert_exporter": "python",
   "pygments_lexer": "ipython3",
   "version": "3.7.1"
  }
 },
 "nbformat": 4,
 "nbformat_minor": 2
}
